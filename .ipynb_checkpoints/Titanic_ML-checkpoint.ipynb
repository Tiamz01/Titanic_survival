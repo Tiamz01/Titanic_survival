{
 "cells": [
  {
   "cell_type": "markdown",
   "id": "c8a6f361",
   "metadata": {},
   "source": [
    "### Import the necessary libarary"
   ]
  },
  {
   "cell_type": "code",
   "execution_count": 315,
   "id": "bc365985",
   "metadata": {},
   "outputs": [],
   "source": [
    "import pandas as pd\n",
    "import matplotlib.pyplot as plt\n",
    "import seaborn as sns\n",
    "import numpy as np"
   ]
  },
  {
   "cell_type": "markdown",
   "id": "0514f069",
   "metadata": {},
   "source": [
    "####  read the dataset"
   ]
  },
  {
   "cell_type": "code",
   "execution_count": 316,
   "id": "fabeae92",
   "metadata": {
    "scrolled": true
   },
   "outputs": [
    {
     "name": "stdout",
     "output_type": "stream",
     "text": [
      "(891, 12)\n",
      "(418, 11)\n"
     ]
    }
   ],
   "source": [
    "train_data = pd.read_csv(r\"C:\\Users\\USER\\MLWorkspace\\titanic\\train.csv\")\n",
    "test_data = pd.read_csv(r\"C:\\Users\\USER\\MLWorkspace\\titanic\\test.csv\")\n",
    "print(train_data.shape)\n",
    "print(test_data.shape)  "
   ]
  },
  {
   "cell_type": "code",
   "execution_count": 317,
   "id": "0ed5b8de",
   "metadata": {},
   "outputs": [
    {
     "data": {
      "text/html": [
       "<div>\n",
       "<style scoped>\n",
       "    .dataframe tbody tr th:only-of-type {\n",
       "        vertical-align: middle;\n",
       "    }\n",
       "\n",
       "    .dataframe tbody tr th {\n",
       "        vertical-align: top;\n",
       "    }\n",
       "\n",
       "    .dataframe thead th {\n",
       "        text-align: right;\n",
       "    }\n",
       "</style>\n",
       "<table border=\"1\" class=\"dataframe\">\n",
       "  <thead>\n",
       "    <tr style=\"text-align: right;\">\n",
       "      <th></th>\n",
       "      <th>PassengerId</th>\n",
       "      <th>Survived</th>\n",
       "      <th>Pclass</th>\n",
       "      <th>Name</th>\n",
       "      <th>Sex</th>\n",
       "      <th>Age</th>\n",
       "      <th>SibSp</th>\n",
       "      <th>Parch</th>\n",
       "      <th>Ticket</th>\n",
       "      <th>Fare</th>\n",
       "      <th>Cabin</th>\n",
       "      <th>Embarked</th>\n",
       "    </tr>\n",
       "  </thead>\n",
       "  <tbody>\n",
       "    <tr>\n",
       "      <th>0</th>\n",
       "      <td>1</td>\n",
       "      <td>0</td>\n",
       "      <td>3</td>\n",
       "      <td>Braund, Mr. Owen Harris</td>\n",
       "      <td>male</td>\n",
       "      <td>22.0</td>\n",
       "      <td>1</td>\n",
       "      <td>0</td>\n",
       "      <td>A/5 21171</td>\n",
       "      <td>7.2500</td>\n",
       "      <td>NaN</td>\n",
       "      <td>S</td>\n",
       "    </tr>\n",
       "    <tr>\n",
       "      <th>1</th>\n",
       "      <td>2</td>\n",
       "      <td>1</td>\n",
       "      <td>1</td>\n",
       "      <td>Cumings, Mrs. John Bradley (Florence Briggs Th...</td>\n",
       "      <td>female</td>\n",
       "      <td>38.0</td>\n",
       "      <td>1</td>\n",
       "      <td>0</td>\n",
       "      <td>PC 17599</td>\n",
       "      <td>71.2833</td>\n",
       "      <td>C85</td>\n",
       "      <td>C</td>\n",
       "    </tr>\n",
       "  </tbody>\n",
       "</table>\n",
       "</div>"
      ],
      "text/plain": [
       "   PassengerId  Survived  Pclass  \\\n",
       "0            1         0       3   \n",
       "1            2         1       1   \n",
       "\n",
       "                                                Name     Sex   Age  SibSp  \\\n",
       "0                            Braund, Mr. Owen Harris    male  22.0      1   \n",
       "1  Cumings, Mrs. John Bradley (Florence Briggs Th...  female  38.0      1   \n",
       "\n",
       "   Parch     Ticket     Fare Cabin Embarked  \n",
       "0      0  A/5 21171   7.2500   NaN        S  \n",
       "1      0   PC 17599  71.2833   C85        C  "
      ]
     },
     "execution_count": 317,
     "metadata": {},
     "output_type": "execute_result"
    }
   ],
   "source": [
    "train_data.head(2)"
   ]
  },
  {
   "cell_type": "code",
   "execution_count": 318,
   "id": "d5b0ec77",
   "metadata": {
    "scrolled": true
   },
   "outputs": [
    {
     "data": {
      "text/html": [
       "<div>\n",
       "<style scoped>\n",
       "    .dataframe tbody tr th:only-of-type {\n",
       "        vertical-align: middle;\n",
       "    }\n",
       "\n",
       "    .dataframe tbody tr th {\n",
       "        vertical-align: top;\n",
       "    }\n",
       "\n",
       "    .dataframe thead th {\n",
       "        text-align: right;\n",
       "    }\n",
       "</style>\n",
       "<table border=\"1\" class=\"dataframe\">\n",
       "  <thead>\n",
       "    <tr style=\"text-align: right;\">\n",
       "      <th></th>\n",
       "      <th>PassengerId</th>\n",
       "      <th>Pclass</th>\n",
       "      <th>Name</th>\n",
       "      <th>Sex</th>\n",
       "      <th>Age</th>\n",
       "      <th>SibSp</th>\n",
       "      <th>Parch</th>\n",
       "      <th>Ticket</th>\n",
       "      <th>Fare</th>\n",
       "      <th>Cabin</th>\n",
       "      <th>Embarked</th>\n",
       "    </tr>\n",
       "  </thead>\n",
       "  <tbody>\n",
       "    <tr>\n",
       "      <th>0</th>\n",
       "      <td>892</td>\n",
       "      <td>3</td>\n",
       "      <td>Kelly, Mr. James</td>\n",
       "      <td>male</td>\n",
       "      <td>34.5</td>\n",
       "      <td>0</td>\n",
       "      <td>0</td>\n",
       "      <td>330911</td>\n",
       "      <td>7.8292</td>\n",
       "      <td>NaN</td>\n",
       "      <td>Q</td>\n",
       "    </tr>\n",
       "    <tr>\n",
       "      <th>1</th>\n",
       "      <td>893</td>\n",
       "      <td>3</td>\n",
       "      <td>Wilkes, Mrs. James (Ellen Needs)</td>\n",
       "      <td>female</td>\n",
       "      <td>47.0</td>\n",
       "      <td>1</td>\n",
       "      <td>0</td>\n",
       "      <td>363272</td>\n",
       "      <td>7.0000</td>\n",
       "      <td>NaN</td>\n",
       "      <td>S</td>\n",
       "    </tr>\n",
       "  </tbody>\n",
       "</table>\n",
       "</div>"
      ],
      "text/plain": [
       "   PassengerId  Pclass                              Name     Sex   Age  SibSp  \\\n",
       "0          892       3                  Kelly, Mr. James    male  34.5      0   \n",
       "1          893       3  Wilkes, Mrs. James (Ellen Needs)  female  47.0      1   \n",
       "\n",
       "   Parch  Ticket    Fare Cabin Embarked  \n",
       "0      0  330911  7.8292   NaN        Q  \n",
       "1      0  363272  7.0000   NaN        S  "
      ]
     },
     "execution_count": 318,
     "metadata": {},
     "output_type": "execute_result"
    }
   ],
   "source": [
    "test_data.head(2)"
   ]
  },
  {
   "cell_type": "markdown",
   "id": "9376cd1f",
   "metadata": {},
   "source": [
    "## Data validation\n",
    "\n",
    "#### there are colums with missing values. the age, embarked and cabin column. the age misssing value is replaced with the mean value of the age column. I forward filled the the cabin and embarked columns."
   ]
  },
  {
   "cell_type": "markdown",
   "id": "21f60a3b",
   "metadata": {},
   "source": [
    "#### checking for missing values"
   ]
  },
  {
   "cell_type": "code",
   "execution_count": 319,
   "id": "d0ebe2f1",
   "metadata": {},
   "outputs": [
    {
     "data": {
      "text/plain": [
       "PassengerId      0\n",
       "Survived         0\n",
       "Pclass           0\n",
       "Name             0\n",
       "Sex              0\n",
       "Age            177\n",
       "SibSp            0\n",
       "Parch            0\n",
       "Ticket           0\n",
       "Fare             0\n",
       "Cabin          687\n",
       "Embarked         2\n",
       "dtype: int64"
      ]
     },
     "execution_count": 319,
     "metadata": {},
     "output_type": "execute_result"
    }
   ],
   "source": [
    "train_data.isnull().sum()"
   ]
  },
  {
   "cell_type": "code",
   "execution_count": 320,
   "id": "eb91df88",
   "metadata": {},
   "outputs": [],
   "source": [
    "train_age = np.random.randint(train_data['Age'].mean()-train_data['Age'].std(), train_data['Age'].mean()+train_data['Age'].std(), 177)"
   ]
  },
  {
   "cell_type": "code",
   "execution_count": 321,
   "id": "84f70a74",
   "metadata": {
    "scrolled": false
   },
   "outputs": [
    {
     "name": "stderr",
     "output_type": "stream",
     "text": [
      "C:\\Users\\USER\\AppData\\Local\\Temp\\ipykernel_2716\\1726883066.py:1: SettingWithCopyWarning: \n",
      "A value is trying to be set on a copy of a slice from a DataFrame\n",
      "\n",
      "See the caveats in the documentation: https://pandas.pydata.org/pandas-docs/stable/user_guide/indexing.html#returning-a-view-versus-a-copy\n",
      "  train_data['Age'][train_data['Age'].isnull()] = train_age\n"
     ]
    }
   ],
   "source": [
    "train_data['Age'][train_data['Age'].isnull()] = train_age"
   ]
  },
  {
   "cell_type": "code",
   "execution_count": 322,
   "id": "04daeba4",
   "metadata": {},
   "outputs": [],
   "source": [
    "# replcaing NAN with mean of the age column\n",
    "# train_data['Age'] = train_data['Age'].fillna(train_data['Age'].mean())\n",
    "\n",
    "#  replcaing NAN with 0 in the cabin column\n",
    "train_data['Cabin'] = train_data['Cabin'].fillna('S', inplace=True)\n",
    "\n",
    "# filling no values\n",
    "train_data['Embarked'].fillna(method='ffill',axis=0, inplace=True)"
   ]
  },
  {
   "cell_type": "code",
   "execution_count": 323,
   "id": "33ec8e0e",
   "metadata": {},
   "outputs": [
    {
     "name": "stdout",
     "output_type": "stream",
     "text": [
      "<class 'pandas.core.frame.DataFrame'>\n",
      "RangeIndex: 891 entries, 0 to 890\n",
      "Data columns (total 12 columns):\n",
      " #   Column       Non-Null Count  Dtype  \n",
      "---  ------       --------------  -----  \n",
      " 0   PassengerId  891 non-null    int64  \n",
      " 1   Survived     891 non-null    int64  \n",
      " 2   Pclass       891 non-null    int64  \n",
      " 3   Name         891 non-null    object \n",
      " 4   Sex          891 non-null    object \n",
      " 5   Age          891 non-null    float64\n",
      " 6   SibSp        891 non-null    int64  \n",
      " 7   Parch        891 non-null    int64  \n",
      " 8   Ticket       891 non-null    object \n",
      " 9   Fare         891 non-null    float64\n",
      " 10  Cabin        0 non-null      object \n",
      " 11  Embarked     891 non-null    object \n",
      "dtypes: float64(2), int64(5), object(5)\n",
      "memory usage: 83.7+ KB\n"
     ]
    }
   ],
   "source": [
    "train_data.info()"
   ]
  },
  {
   "cell_type": "markdown",
   "id": "736aafb7",
   "metadata": {},
   "source": [
    "### EDA \n",
    "\n",
    "It is important we understand and know more about the passagers onboard. There are total number of 891 people in the train, we have 577 males and 314 females. The are 3 passenger classes in the train, the vip, business class and the economy class with 210, 184 and 491 respectively in the cabins. It is seen that 549 people did not survived while 314 people managed to survive. in the first class cabin, 136 people survived while 80 couldn't, 63% of the cabin survived. also in the second class cabin, 87 people survived while 97 didn't make it, 47% of the cabin survived. 24% of the 3rd cabin survived, 372 of the people didn't survive in the economy class while 199 people was rescued."
   ]
  },
  {
   "cell_type": "code",
   "execution_count": 324,
   "id": "89cfc9e7",
   "metadata": {},
   "outputs": [
    {
     "data": {
      "text/plain": [
       "891"
      ]
     },
     "execution_count": 324,
     "metadata": {},
     "output_type": "execute_result"
    }
   ],
   "source": [
    "total_passenger = train_data['Sex'].value_counts().sum()"
   ]
  },
  {
   "cell_type": "code",
   "execution_count": 325,
   "id": "6e26505e",
   "metadata": {},
   "outputs": [
    {
     "data": {
      "text/plain": [
       "male      577\n",
       "female    314\n",
       "Name: Sex, dtype: int64"
      ]
     },
     "execution_count": 325,
     "metadata": {},
     "output_type": "execute_result"
    }
   ],
   "source": [
    "sex_counts =train_data['Sex'].value_counts()\n",
    "sex_counts"
   ]
  },
  {
   "cell_type": "code",
   "execution_count": 328,
   "id": "b0147cfb",
   "metadata": {},
   "outputs": [
    {
     "data": {
      "text/plain": [
       "0    549\n",
       "1    342\n",
       "Name: Survived, dtype: int64"
      ]
     },
     "execution_count": 328,
     "metadata": {},
     "output_type": "execute_result"
    }
   ],
   "source": [
    "survival_counts = train_data['Survived'].value_counts()\n",
    "survival_counts"
   ]
  },
  {
   "cell_type": "code",
   "execution_count": 271,
   "id": "0b489140",
   "metadata": {
    "scrolled": true
   },
   "outputs": [
    {
     "data": {
      "text/plain": [
       "Pclass  Survived\n",
       "1       1           136\n",
       "        0            80\n",
       "2       0            97\n",
       "        1            87\n",
       "3       0           372\n",
       "        1           119\n",
       "Name: Survived, dtype: int64"
      ]
     },
     "execution_count": 271,
     "metadata": {},
     "output_type": "execute_result"
    }
   ],
   "source": [
    "survival_counts = train_data.groupby('Pclass')['Survived'].value_counts()\n",
    "survival_counts"
   ]
  },
  {
   "cell_type": "code",
   "execution_count": 272,
   "id": "e203e2e2",
   "metadata": {
    "scrolled": false
   },
   "outputs": [
    {
     "data": {
      "text/plain": [
       "Pclass\n",
       "1    0.629630\n",
       "2    0.472826\n",
       "3    0.242363\n",
       "Name: Survived, dtype: float64"
      ]
     },
     "execution_count": 272,
     "metadata": {},
     "output_type": "execute_result"
    }
   ],
   "source": [
    "survival_counts = train_data.groupby('Pclass')['Survived'].mean()\n",
    "survival_counts"
   ]
  },
  {
   "cell_type": "code",
   "execution_count": 273,
   "id": "3b3e6910",
   "metadata": {
    "scrolled": true
   },
   "outputs": [
    {
     "data": {
      "text/plain": [
       "Pclass  Sex     Survived\n",
       "1       female  1            91\n",
       "                0             3\n",
       "        male    0            77\n",
       "                1            45\n",
       "2       female  1            70\n",
       "                0             6\n",
       "        male    0            91\n",
       "                1            17\n",
       "3       female  0            72\n",
       "                1            72\n",
       "        male    0           300\n",
       "                1            47\n",
       "Name: Survived, dtype: int64"
      ]
     },
     "execution_count": 273,
     "metadata": {},
     "output_type": "execute_result"
    }
   ],
   "source": [
    "survival_counts = train_data.groupby(['Pclass', 'Sex'])['Survived'].value_counts()\n",
    "survival_counts"
   ]
  },
  {
   "cell_type": "markdown",
   "id": "e42e743e",
   "metadata": {},
   "source": [
    "#### there is a need to know how some people survived. in the first cabin, 137 were alone on board, 7 people have boarded with there spouse,5 people are with 2 siblings and 3 people with 3 siblings. the second cabin contains 120 were alone on board, 55 people have boarded with there spouse,8 people are with 2 siblings and 1 person with 3 siblings. From the 3rd cabin, 351 were alone on board, 83 people have boarded with there spouse,18 people are with 4 siblings, 16 people with 2 siblings, 12 people with 3 siblings, 7 people with  8siblings and 5 people with 5 siblings. Wow, i hope the breakdown is interesting."
   ]
  },
  {
   "cell_type": "code",
   "execution_count": 274,
   "id": "2ec9ce1a",
   "metadata": {},
   "outputs": [
    {
     "data": {
      "text/plain": [
       "Pclass  SibSp\n",
       "1       0        137\n",
       "        1         71\n",
       "        2          5\n",
       "        3          3\n",
       "2       0        120\n",
       "        1         55\n",
       "        2          8\n",
       "        3          1\n",
       "3       0        351\n",
       "        1         83\n",
       "        4         18\n",
       "        2         15\n",
       "        3         12\n",
       "        8          7\n",
       "        5          5\n",
       "Name: SibSp, dtype: int64"
      ]
     },
     "execution_count": 274,
     "metadata": {},
     "output_type": "execute_result"
    }
   ],
   "source": [
    "survival_counts = train_data.groupby('Pclass')['SibSp'].value_counts()\n",
    "survival_counts"
   ]
  },
  {
   "cell_type": "code",
   "execution_count": 275,
   "id": "88e8a1e4",
   "metadata": {},
   "outputs": [
    {
     "data": {
      "text/plain": [
       "Embarked\n",
       "C    0.556213\n",
       "Q    0.397436\n",
       "S    0.336957\n",
       "Name: Survived, dtype: float64"
      ]
     },
     "execution_count": 275,
     "metadata": {},
     "output_type": "execute_result"
    }
   ],
   "source": [
    "Embarked_survival_rate = train_data.groupby('Embarked')['Survived'].mean()\n",
    "Embarked_survival_rate"
   ]
  },
  {
   "cell_type": "code",
   "execution_count": 276,
   "id": "fb6c7483",
   "metadata": {},
   "outputs": [
    {
     "data": {
      "text/plain": [
       "Age\n",
       "0.42     1.0\n",
       "0.67     1.0\n",
       "0.75     1.0\n",
       "0.83     1.0\n",
       "0.92     1.0\n",
       "        ... \n",
       "70.00    0.0\n",
       "70.50    0.0\n",
       "71.00    0.0\n",
       "74.00    0.0\n",
       "80.00    1.0\n",
       "Name: Survived, Length: 88, dtype: float64"
      ]
     },
     "execution_count": 276,
     "metadata": {},
     "output_type": "execute_result"
    }
   ],
   "source": [
    "survival_age = train_data.groupby('Age')['Survived'].mean()\n",
    "survival_age"
   ]
  },
  {
   "cell_type": "code",
   "execution_count": 329,
   "id": "cd87d758",
   "metadata": {},
   "outputs": [
    {
     "data": {
      "image/png": "[encoded data removed]",
      "text/plain": [
       "<Figure size 640x480 with 1 Axes>"
      ]
     },
     "metadata": {},
     "output_type": "display_data"
    }
   ],
   "source": [
    "plt.hist(survival_age)\n",
    "plt.show()"
   ]
  },
  {
   "cell_type": "code",
   "execution_count": 277,
   "id": "3be32e7e",
   "metadata": {
    "scrolled": true
   },
   "outputs": [
    {
     "data": {
      "image/png": "[encoded data removed]",
      "text/plain": [
       "<Figure size 640x480 with 1 Axes>"
      ]
     },
     "metadata": {},
     "output_type": "display_data"
    }
   ],
   "source": [
    "plt.hist(train_data['Sex'])\n",
    "plt.show()"
   ]
  },
  {
   "cell_type": "code",
   "execution_count": 278,
   "id": "b5df44bc",
   "metadata": {
    "scrolled": true
   },
   "outputs": [
    {
     "data": {
      "text/plain": [
       "S    644\n",
       "C    169\n",
       "Q     78\n",
       "Name: Embarked, dtype: int64"
      ]
     },
     "execution_count": 278,
     "metadata": {},
     "output_type": "execute_result"
    }
   ],
   "source": [
    "train_data['Embarked'].value_counts()"
   ]
  },
  {
   "cell_type": "code",
   "execution_count": 279,
   "id": "c64e8ec0",
   "metadata": {},
   "outputs": [
    {
     "data": {
      "text/plain": [
       "1     537\n",
       "2     161\n",
       "3     102\n",
       "4      29\n",
       "6      22\n",
       "5      15\n",
       "7      12\n",
       "11      7\n",
       "8       6\n",
       "Name: Family, dtype: int64"
      ]
     },
     "execution_count": 279,
     "metadata": {},
     "output_type": "execute_result"
    }
   ],
   "source": [
    "train_data['Family'] = train_data['SibSp'] + train_data['Parch'] + 1\n",
    "train_data['Family'].value_counts() "
   ]
  },
  {
   "cell_type": "code",
   "execution_count": 280,
   "id": "e8659239",
   "metadata": {
    "collapsed": true
   },
   "outputs": [
    {
     "data": {
      "text/plain": [
       "1     253\n",
       "2      74\n",
       "3      57\n",
       "4      14\n",
       "5       7\n",
       "7       4\n",
       "11      4\n",
       "6       3\n",
       "8       2\n",
       "Name: Family, dtype: int64"
      ]
     },
     "execution_count": 280,
     "metadata": {},
     "output_type": "execute_result"
    }
   ],
   "source": [
    "test_data['Family'] = test_data['SibSp'] + test_data['Parch'] + 1\n",
    "test_data['Family'].value_counts() "
   ]
  },
  {
   "cell_type": "code",
   "execution_count": 281,
   "id": "561ad48e",
   "metadata": {},
   "outputs": [],
   "source": [
    "def sizeClassifier(number):\n",
    "    if number == 1:\n",
    "        return 'Alone'\n",
    "    elif number > 1 and number < 5:\n",
    "        return 'Medium'\n",
    "    else:\n",
    "        return 'Large'"
   ]
  },
  {
   "cell_type": "code",
   "execution_count": 282,
   "id": "e25190ae",
   "metadata": {},
   "outputs": [],
   "source": [
    "train_data['Family_size'] = train_data['Family'].apply(sizeClassifier)"
   ]
  },
  {
   "cell_type": "code",
   "execution_count": 283,
   "id": "82e94ef3",
   "metadata": {},
   "outputs": [],
   "source": [
    "test_data['Family_size'] = test_data['Family'].apply(sizeClassifier)"
   ]
  },
  {
   "cell_type": "code",
   "execution_count": 284,
   "id": "c6e62363",
   "metadata": {},
   "outputs": [
    {
     "data": {
      "text/html": [
       "<div>\n",
       "<style scoped>\n",
       "    .dataframe tbody tr th:only-of-type {\n",
       "        vertical-align: middle;\n",
       "    }\n",
       "\n",
       "    .dataframe tbody tr th {\n",
       "        vertical-align: top;\n",
       "    }\n",
       "\n",
       "    .dataframe thead th {\n",
       "        text-align: right;\n",
       "    }\n",
       "</style>\n",
       "<table border=\"1\" class=\"dataframe\">\n",
       "  <thead>\n",
       "    <tr style=\"text-align: right;\">\n",
       "      <th></th>\n",
       "      <th>PassengerId</th>\n",
       "      <th>Survived</th>\n",
       "      <th>Pclass</th>\n",
       "      <th>Name</th>\n",
       "      <th>Sex</th>\n",
       "      <th>Age</th>\n",
       "      <th>SibSp</th>\n",
       "      <th>Parch</th>\n",
       "      <th>Ticket</th>\n",
       "      <th>Fare</th>\n",
       "      <th>Cabin</th>\n",
       "      <th>Embarked</th>\n",
       "      <th>Family</th>\n",
       "      <th>Family_size</th>\n",
       "    </tr>\n",
       "  </thead>\n",
       "  <tbody>\n",
       "    <tr>\n",
       "      <th>0</th>\n",
       "      <td>1</td>\n",
       "      <td>0</td>\n",
       "      <td>3</td>\n",
       "      <td>Braund, Mr. Owen Harris</td>\n",
       "      <td>male</td>\n",
       "      <td>22.0</td>\n",
       "      <td>1</td>\n",
       "      <td>0</td>\n",
       "      <td>A/5 21171</td>\n",
       "      <td>7.2500</td>\n",
       "      <td>None</td>\n",
       "      <td>S</td>\n",
       "      <td>2</td>\n",
       "      <td>Medium</td>\n",
       "    </tr>\n",
       "    <tr>\n",
       "      <th>1</th>\n",
       "      <td>2</td>\n",
       "      <td>1</td>\n",
       "      <td>1</td>\n",
       "      <td>Cumings, Mrs. John Bradley (Florence Briggs Th...</td>\n",
       "      <td>female</td>\n",
       "      <td>38.0</td>\n",
       "      <td>1</td>\n",
       "      <td>0</td>\n",
       "      <td>PC 17599</td>\n",
       "      <td>71.2833</td>\n",
       "      <td>None</td>\n",
       "      <td>C</td>\n",
       "      <td>2</td>\n",
       "      <td>Medium</td>\n",
       "    </tr>\n",
       "    <tr>\n",
       "      <th>2</th>\n",
       "      <td>3</td>\n",
       "      <td>1</td>\n",
       "      <td>3</td>\n",
       "      <td>Heikkinen, Miss. Laina</td>\n",
       "      <td>female</td>\n",
       "      <td>26.0</td>\n",
       "      <td>0</td>\n",
       "      <td>0</td>\n",
       "      <td>STON/O2. 3101282</td>\n",
       "      <td>7.9250</td>\n",
       "      <td>None</td>\n",
       "      <td>S</td>\n",
       "      <td>1</td>\n",
       "      <td>Alone</td>\n",
       "    </tr>\n",
       "    <tr>\n",
       "      <th>3</th>\n",
       "      <td>4</td>\n",
       "      <td>1</td>\n",
       "      <td>1</td>\n",
       "      <td>Futrelle, Mrs. Jacques Heath (Lily May Peel)</td>\n",
       "      <td>female</td>\n",
       "      <td>35.0</td>\n",
       "      <td>1</td>\n",
       "      <td>0</td>\n",
       "      <td>113803</td>\n",
       "      <td>53.1000</td>\n",
       "      <td>None</td>\n",
       "      <td>S</td>\n",
       "      <td>2</td>\n",
       "      <td>Medium</td>\n",
       "    </tr>\n",
       "    <tr>\n",
       "      <th>4</th>\n",
       "      <td>5</td>\n",
       "      <td>0</td>\n",
       "      <td>3</td>\n",
       "      <td>Allen, Mr. William Henry</td>\n",
       "      <td>male</td>\n",
       "      <td>35.0</td>\n",
       "      <td>0</td>\n",
       "      <td>0</td>\n",
       "      <td>373450</td>\n",
       "      <td>8.0500</td>\n",
       "      <td>None</td>\n",
       "      <td>S</td>\n",
       "      <td>1</td>\n",
       "      <td>Alone</td>\n",
       "    </tr>\n",
       "    <tr>\n",
       "      <th>...</th>\n",
       "      <td>...</td>\n",
       "      <td>...</td>\n",
       "      <td>...</td>\n",
       "      <td>...</td>\n",
       "      <td>...</td>\n",
       "      <td>...</td>\n",
       "      <td>...</td>\n",
       "      <td>...</td>\n",
       "      <td>...</td>\n",
       "      <td>...</td>\n",
       "      <td>...</td>\n",
       "      <td>...</td>\n",
       "      <td>...</td>\n",
       "      <td>...</td>\n",
       "    </tr>\n",
       "    <tr>\n",
       "      <th>886</th>\n",
       "      <td>887</td>\n",
       "      <td>0</td>\n",
       "      <td>2</td>\n",
       "      <td>Montvila, Rev. Juozas</td>\n",
       "      <td>male</td>\n",
       "      <td>27.0</td>\n",
       "      <td>0</td>\n",
       "      <td>0</td>\n",
       "      <td>211536</td>\n",
       "      <td>13.0000</td>\n",
       "      <td>None</td>\n",
       "      <td>S</td>\n",
       "      <td>1</td>\n",
       "      <td>Alone</td>\n",
       "    </tr>\n",
       "    <tr>\n",
       "      <th>887</th>\n",
       "      <td>888</td>\n",
       "      <td>1</td>\n",
       "      <td>1</td>\n",
       "      <td>Graham, Miss. Margaret Edith</td>\n",
       "      <td>female</td>\n",
       "      <td>19.0</td>\n",
       "      <td>0</td>\n",
       "      <td>0</td>\n",
       "      <td>112053</td>\n",
       "      <td>30.0000</td>\n",
       "      <td>None</td>\n",
       "      <td>S</td>\n",
       "      <td>1</td>\n",
       "      <td>Alone</td>\n",
       "    </tr>\n",
       "    <tr>\n",
       "      <th>888</th>\n",
       "      <td>889</td>\n",
       "      <td>0</td>\n",
       "      <td>3</td>\n",
       "      <td>Johnston, Miss. Catherine Helen \"Carrie\"</td>\n",
       "      <td>female</td>\n",
       "      <td>32.0</td>\n",
       "      <td>1</td>\n",
       "      <td>2</td>\n",
       "      <td>W./C. 6607</td>\n",
       "      <td>23.4500</td>\n",
       "      <td>None</td>\n",
       "      <td>S</td>\n",
       "      <td>4</td>\n",
       "      <td>Medium</td>\n",
       "    </tr>\n",
       "    <tr>\n",
       "      <th>889</th>\n",
       "      <td>890</td>\n",
       "      <td>1</td>\n",
       "      <td>1</td>\n",
       "      <td>Behr, Mr. Karl Howell</td>\n",
       "      <td>male</td>\n",
       "      <td>26.0</td>\n",
       "      <td>0</td>\n",
       "      <td>0</td>\n",
       "      <td>111369</td>\n",
       "      <td>30.0000</td>\n",
       "      <td>None</td>\n",
       "      <td>C</td>\n",
       "      <td>1</td>\n",
       "      <td>Alone</td>\n",
       "    </tr>\n",
       "    <tr>\n",
       "      <th>890</th>\n",
       "      <td>891</td>\n",
       "      <td>0</td>\n",
       "      <td>3</td>\n",
       "      <td>Dooley, Mr. Patrick</td>\n",
       "      <td>male</td>\n",
       "      <td>32.0</td>\n",
       "      <td>0</td>\n",
       "      <td>0</td>\n",
       "      <td>370376</td>\n",
       "      <td>7.7500</td>\n",
       "      <td>None</td>\n",
       "      <td>Q</td>\n",
       "      <td>1</td>\n",
       "      <td>Alone</td>\n",
       "    </tr>\n",
       "  </tbody>\n",
       "</table>\n",
       "<p>891 rows × 14 columns</p>\n",
       "</div>"
      ],
      "text/plain": [
       "     PassengerId  Survived  Pclass  \\\n",
       "0              1         0       3   \n",
       "1              2         1       1   \n",
       "2              3         1       3   \n",
       "3              4         1       1   \n",
       "4              5         0       3   \n",
       "..           ...       ...     ...   \n",
       "886          887         0       2   \n",
       "887          888         1       1   \n",
       "888          889         0       3   \n",
       "889          890         1       1   \n",
       "890          891         0       3   \n",
       "\n",
       "                                                  Name     Sex   Age  SibSp  \\\n",
       "0                              Braund, Mr. Owen Harris    male  22.0      1   \n",
       "1    Cumings, Mrs. John Bradley (Florence Briggs Th...  female  38.0      1   \n",
       "2                               Heikkinen, Miss. Laina  female  26.0      0   \n",
       "3         Futrelle, Mrs. Jacques Heath (Lily May Peel)  female  35.0      1   \n",
       "4                             Allen, Mr. William Henry    male  35.0      0   \n",
       "..                                                 ...     ...   ...    ...   \n",
       "886                              Montvila, Rev. Juozas    male  27.0      0   \n",
       "887                       Graham, Miss. Margaret Edith  female  19.0      0   \n",
       "888           Johnston, Miss. Catherine Helen \"Carrie\"  female  32.0      1   \n",
       "889                              Behr, Mr. Karl Howell    male  26.0      0   \n",
       "890                                Dooley, Mr. Patrick    male  32.0      0   \n",
       "\n",
       "     Parch            Ticket     Fare Cabin Embarked  Family Family_size  \n",
       "0        0         A/5 21171   7.2500  None        S       2      Medium  \n",
       "1        0          PC 17599  71.2833  None        C       2      Medium  \n",
       "2        0  STON/O2. 3101282   7.9250  None        S       1       Alone  \n",
       "3        0            113803  53.1000  None        S       2      Medium  \n",
       "4        0            373450   8.0500  None        S       1       Alone  \n",
       "..     ...               ...      ...   ...      ...     ...         ...  \n",
       "886      0            211536  13.0000  None        S       1       Alone  \n",
       "887      0            112053  30.0000  None        S       1       Alone  \n",
       "888      2        W./C. 6607  23.4500  None        S       4      Medium  \n",
       "889      0            111369  30.0000  None        C       1       Alone  \n",
       "890      0            370376   7.7500  None        Q       1       Alone  \n",
       "\n",
       "[891 rows x 14 columns]"
      ]
     },
     "execution_count": 284,
     "metadata": {},
     "output_type": "execute_result"
    }
   ],
   "source": [
    "train_data"
   ]
  },
  {
   "cell_type": "code",
   "execution_count": 285,
   "id": "ccdd9955",
   "metadata": {
    "scrolled": false
   },
   "outputs": [
    {
     "name": "stderr",
     "output_type": "stream",
     "text": [
      "C:\\Users\\USER\\AppData\\Local\\Temp\\ipykernel_2716\\1492731673.py:1: UserWarning: \n",
      "\n",
      "`distplot` is a deprecated function and will be removed in seaborn v0.14.0.\n",
      "\n",
      "Please adapt your code to use either `displot` (a figure-level function with\n",
      "similar flexibility) or `histplot` (an axes-level function for histograms).\n",
      "\n",
      "For a guide to updating your code to use the new functions, please see\n",
      "https://gist.github.com/mwaskom/de44147ed2974457ad6372750bbe5751\n",
      "\n",
      "  sns.distplot(train_data['Age'][train_data['Survived'] == 0])\n",
      "C:\\Users\\USER\\AppData\\Local\\Temp\\ipykernel_2716\\1492731673.py:2: UserWarning: \n",
      "\n",
      "`distplot` is a deprecated function and will be removed in seaborn v0.14.0.\n",
      "\n",
      "Please adapt your code to use either `displot` (a figure-level function with\n",
      "similar flexibility) or `histplot` (an axes-level function for histograms).\n",
      "\n",
      "For a guide to updating your code to use the new functions, please see\n",
      "https://gist.github.com/mwaskom/de44147ed2974457ad6372750bbe5751\n",
      "\n",
      "  sns.distplot(train_data['Age'][train_data['Survived'] == 1])\n"
     ]
    },
    {
     "data": {
      "image/png": "[encoded data removed]",
      "text/plain": [
       "<Figure size 640x480 with 1 Axes>"
      ]
     },
     "metadata": {},
     "output_type": "display_data"
    }
   ],
   "source": [
    "sns.distplot(train_data['Age'][train_data['Survived'] == 0])\n",
    "sns.distplot(train_data['Age'][train_data['Survived'] == 1])                               \n",
    "plt.show()"
   ]
  },
  {
   "cell_type": "code",
   "execution_count": 286,
   "id": "28f9c3f3",
   "metadata": {
    "scrolled": true
   },
   "outputs": [
    {
     "name": "stderr",
     "output_type": "stream",
     "text": [
      "C:\\Users\\USER\\AppData\\Local\\Temp\\ipykernel_2716\\2555955253.py:1: UserWarning: \n",
      "\n",
      "`distplot` is a deprecated function and will be removed in seaborn v0.14.0.\n",
      "\n",
      "Please adapt your code to use either `displot` (a figure-level function with\n",
      "similar flexibility) or `histplot` (an axes-level function for histograms).\n",
      "\n",
      "For a guide to updating your code to use the new functions, please see\n",
      "https://gist.github.com/mwaskom/de44147ed2974457ad6372750bbe5751\n",
      "\n",
      "  sns.distplot(train_data['Fare'][train_data['Survived'] == 0])\n",
      "C:\\Users\\USER\\AppData\\Local\\Temp\\ipykernel_2716\\2555955253.py:2: UserWarning: \n",
      "\n",
      "`distplot` is a deprecated function and will be removed in seaborn v0.14.0.\n",
      "\n",
      "Please adapt your code to use either `displot` (a figure-level function with\n",
      "similar flexibility) or `histplot` (an axes-level function for histograms).\n",
      "\n",
      "For a guide to updating your code to use the new functions, please see\n",
      "https://gist.github.com/mwaskom/de44147ed2974457ad6372750bbe5751\n",
      "\n",
      "  sns.distplot(train_data['Fare'][train_data['Survived'] == 1])\n"
     ]
    },
    {
     "data": {
      "image/png": "[encoded data removed]",
      "text/plain": [
       "<Figure size 640x480 with 1 Axes>"
      ]
     },
     "metadata": {},
     "output_type": "display_data"
    }
   ],
   "source": [
    "sns.distplot(train_data['Fare'][train_data['Survived'] == 0])\n",
    "sns.distplot(train_data['Fare'][train_data['Survived'] == 1])                               \n",
    "plt.show()"
   ]
  },
  {
   "cell_type": "code",
   "execution_count": 287,
   "id": "3da8d327",
   "metadata": {},
   "outputs": [
    {
     "name": "stderr",
     "output_type": "stream",
     "text": [
      "C:\\Users\\USER\\AppData\\Local\\Temp\\ipykernel_2716\\2926822198.py:1: UserWarning: \n",
      "\n",
      "`distplot` is a deprecated function and will be removed in seaborn v0.14.0.\n",
      "\n",
      "Please adapt your code to use either `displot` (a figure-level function with\n",
      "similar flexibility) or `histplot` (an axes-level function for histograms).\n",
      "\n",
      "For a guide to updating your code to use the new functions, please see\n",
      "https://gist.github.com/mwaskom/de44147ed2974457ad6372750bbe5751\n",
      "\n",
      "  sns.distplot(train_data['Age'])\n"
     ]
    },
    {
     "data": {
      "image/png": "[encoded data removed]",
      "text/plain": [
       "<Figure size 640x480 with 1 Axes>"
      ]
     },
     "metadata": {},
     "output_type": "display_data"
    }
   ],
   "source": [
    "sns.distplot(train_data['Age'])\n",
    "plt.show()"
   ]
  },
  {
   "cell_type": "code",
   "execution_count": 288,
   "id": "b74ea8f3",
   "metadata": {
    "scrolled": false
   },
   "outputs": [
    {
     "data": {
      "text/plain": [
       "(891, 14)"
      ]
     },
     "execution_count": 288,
     "metadata": {},
     "output_type": "execute_result"
    }
   ],
   "source": [
    "\n",
    "train_data.shape"
   ]
  },
  {
   "cell_type": "markdown",
   "id": "4ed78cf9",
   "metadata": {},
   "source": [
    "### Fixing test data"
   ]
  },
  {
   "cell_type": "code",
   "execution_count": 289,
   "id": "df70b3cc",
   "metadata": {
    "scrolled": false
   },
   "outputs": [
    {
     "name": "stdout",
     "output_type": "stream",
     "text": [
      "<class 'pandas.core.frame.DataFrame'>\n",
      "RangeIndex: 418 entries, 0 to 417\n",
      "Data columns (total 13 columns):\n",
      " #   Column       Non-Null Count  Dtype  \n",
      "---  ------       --------------  -----  \n",
      " 0   PassengerId  418 non-null    int64  \n",
      " 1   Pclass       418 non-null    int64  \n",
      " 2   Name         418 non-null    object \n",
      " 3   Sex          418 non-null    object \n",
      " 4   Age          332 non-null    float64\n",
      " 5   SibSp        418 non-null    int64  \n",
      " 6   Parch        418 non-null    int64  \n",
      " 7   Ticket       418 non-null    object \n",
      " 8   Fare         417 non-null    float64\n",
      " 9   Cabin        91 non-null     object \n",
      " 10  Embarked     418 non-null    object \n",
      " 11  Family       418 non-null    int64  \n",
      " 12  Family_size  418 non-null    object \n",
      "dtypes: float64(2), int64(5), object(6)\n",
      "memory usage: 42.6+ KB\n"
     ]
    }
   ],
   "source": [
    "test_data.info()"
   ]
  },
  {
   "cell_type": "code",
   "execution_count": 290,
   "id": "b7200c91",
   "metadata": {
    "scrolled": false
   },
   "outputs": [
    {
     "data": {
      "text/plain": [
       "PassengerId      0\n",
       "Pclass           0\n",
       "Name             0\n",
       "Sex              0\n",
       "Age             86\n",
       "SibSp            0\n",
       "Parch            0\n",
       "Ticket           0\n",
       "Fare             1\n",
       "Cabin          327\n",
       "Embarked         0\n",
       "Family           0\n",
       "Family_size      0\n",
       "dtype: int64"
      ]
     },
     "execution_count": 290,
     "metadata": {},
     "output_type": "execute_result"
    }
   ],
   "source": [
    "test_data.isnull().sum()"
   ]
  },
  {
   "cell_type": "code",
   "execution_count": 291,
   "id": "7dbfbae2",
   "metadata": {},
   "outputs": [],
   "source": [
    "test_age = np.random.randint(test_data['Age'].mean()-test_data['Age'].std(), test_data['Age'].mean() + test_data['Age'].std(), 86)"
   ]
  },
  {
   "cell_type": "code",
   "execution_count": 292,
   "id": "ffdfbdc9",
   "metadata": {},
   "outputs": [
    {
     "name": "stderr",
     "output_type": "stream",
     "text": [
      "C:\\Users\\USER\\AppData\\Local\\Temp\\ipykernel_2716\\1548474921.py:1: SettingWithCopyWarning: \n",
      "A value is trying to be set on a copy of a slice from a DataFrame\n",
      "\n",
      "See the caveats in the documentation: https://pandas.pydata.org/pandas-docs/stable/user_guide/indexing.html#returning-a-view-versus-a-copy\n",
      "  test_data['Age'][test_data['Age'].isnull()] = test_age\n"
     ]
    }
   ],
   "source": [
    "test_data['Age'][test_data['Age'].isnull()] = test_age"
   ]
  },
  {
   "cell_type": "code",
   "execution_count": 293,
   "id": "14965e6e",
   "metadata": {},
   "outputs": [],
   "source": [
    "# replcaing NAN with mean of the age column\n",
    "# test_data['Age'] = test_data['Age'].fillna(test_data['Age'].mean())\n",
    "\n",
    "#  replcaing NAN with 0 in the cabin column\n",
    "test_data['Fare'] = test_data['Fare'].fillna(test_data['Fare'].mean())\n",
    "\n",
    "# filling no values\n",
    "test_data['Embarked'].fillna(method='ffill',axis=0, inplace=True)"
   ]
  },
  {
   "cell_type": "code",
   "execution_count": 294,
   "id": "3a5eb379",
   "metadata": {},
   "outputs": [
    {
     "data": {
      "text/plain": [
       "PassengerId      0\n",
       "Pclass           0\n",
       "Name             0\n",
       "Sex              0\n",
       "Age              0\n",
       "SibSp            0\n",
       "Parch            0\n",
       "Ticket           0\n",
       "Fare             0\n",
       "Cabin          327\n",
       "Embarked         0\n",
       "Family           0\n",
       "Family_size      0\n",
       "dtype: int64"
      ]
     },
     "execution_count": 294,
     "metadata": {},
     "output_type": "execute_result"
    }
   ],
   "source": [
    "test_data.isnull().sum()"
   ]
  },
  {
   "cell_type": "code",
   "execution_count": 295,
   "id": "e9cd024a",
   "metadata": {},
   "outputs": [],
   "source": [
    "passengerId = test_data['PassengerId'].values"
   ]
  },
  {
   "cell_type": "code",
   "execution_count": 296,
   "id": "09478272",
   "metadata": {},
   "outputs": [],
   "source": [
    "# Drop columns from the DataFrame\n",
    "col_to_drop = ['PassengerId','Name', 'Cabin', 'Ticket', 'SibSp', 'Parch', 'Family']\n",
    "\n",
    "#dropping column from train data\n",
    "train_data.drop(col_to_drop, axis=1, inplace=True)\n",
    "test_data.drop(col_to_drop, axis=1, inplace=True)\n",
    "\n",
    "# encodinging categorical columns\n",
    "train_data = pd.get_dummies(train_data, columns=['Pclass','Sex', 'Embarked', 'Family_size'], drop_first=True)\n",
    "test_data = pd.get_dummies(test_data, columns=['Pclass', 'Sex', 'Embarked','Family_size' ], drop_first=True)\n"
   ]
  },
  {
   "cell_type": "code",
   "execution_count": 297,
   "id": "1add2750",
   "metadata": {},
   "outputs": [
    {
     "name": "stdout",
     "output_type": "stream",
     "text": [
      "(891, 10)\n",
      "(418, 9)\n"
     ]
    }
   ],
   "source": [
    "print(train_data.shape)\n",
    "print(test_data.shape)"
   ]
  },
  {
   "cell_type": "markdown",
   "id": "a38e365d",
   "metadata": {},
   "source": [
    "### Predicting Survival"
   ]
  },
  {
   "cell_type": "code",
   "execution_count": 298,
   "id": "f9aeca5a",
   "metadata": {},
   "outputs": [],
   "source": [
    "X = train_data.drop('Survived', axis=1)\n",
    "y = train_data['Survived']"
   ]
  },
  {
   "cell_type": "code",
   "execution_count": 299,
   "id": "a0a0ce0c",
   "metadata": {},
   "outputs": [
    {
     "data": {
      "text/plain": [
       "array([0, 1, 0, 1, 1, 0, 1, 0, 1, 1, 1, 0, 0, 0, 0, 1, 0, 1, 0, 0, 0, 1,\n",
       "       0, 0, 0, 0, 0, 1, 0, 1, 0, 1, 1, 1, 0, 0, 0, 1, 1, 0, 0, 0, 0, 0,\n",
       "       0, 0, 0, 0, 1, 0, 1, 1, 0, 1, 0, 1, 0, 0, 1, 0, 0, 1, 1, 0, 0, 1,\n",
       "       0, 0, 0, 1, 1, 1, 1, 1, 0, 0, 0, 1, 1, 1, 0, 1, 1, 0, 0, 0, 1, 1,\n",
       "       0, 0, 1, 0, 0, 1, 0, 0, 1, 0, 1, 0, 1, 0, 1, 0, 0, 1, 1, 0, 1, 1,\n",
       "       1, 0, 1, 1, 0, 0, 0, 0, 1, 0, 0, 1, 1, 1, 0, 1, 1, 1, 0, 0, 1, 0,\n",
       "       0, 1, 1, 0, 1, 0, 0, 0, 0, 1, 0, 0, 0, 1, 0, 1, 1, 0, 0, 0, 1, 0,\n",
       "       0, 0, 1, 1, 1, 1, 0, 1, 0, 1, 0, 0, 0, 0, 0, 0, 1, 0, 1, 0, 0, 0,\n",
       "       0, 1, 0], dtype=int64)"
      ]
     },
     "execution_count": 299,
     "metadata": {},
     "output_type": "execute_result"
    }
   ],
   "source": [
    "from sklearn.tree import DecisionTreeClassifier\n",
    "from sklearn.model_selection import train_test_split\n",
    "from sklearn.preprocessing import OneHotEncoder\n",
    "\n",
    "#spliting the data set\n",
    "X_train, X_test, y_train, y_test = train_test_split(X, y, test_size=0.2, random_state=42)\n",
    "\n",
    "model = DecisionTreeClassifier()\n",
    "model.fit(X_train, y_train)\n",
    "\n",
    "y_pred = model.predict(X_test)\n",
    "y_pred "
   ]
  },
  {
   "cell_type": "code",
   "execution_count": 300,
   "id": "df541c3e",
   "metadata": {},
   "outputs": [],
   "source": [
    "xf = test_data.iloc[:,:].values"
   ]
  },
  {
   "cell_type": "code",
   "execution_count": 301,
   "id": "c5029faa",
   "metadata": {
    "scrolled": false
   },
   "outputs": [
    {
     "name": "stderr",
     "output_type": "stream",
     "text": [
      "C:\\Users\\USER\\anaconda3\\lib\\site-packages\\sklearn\\base.py:439: UserWarning: X does not have valid feature names, but DecisionTreeClassifier was fitted with feature names\n",
      "  warnings.warn(\n"
     ]
    }
   ],
   "source": [
    "final_y_pred = model.predict(xf)"
   ]
  },
  {
   "cell_type": "code",
   "execution_count": 302,
   "id": "f9d4c37e",
   "metadata": {},
   "outputs": [
    {
     "data": {
      "text/plain": [
       "(418,)"
      ]
     },
     "execution_count": 302,
     "metadata": {},
     "output_type": "execute_result"
    }
   ],
   "source": [
    "final_y_pred.shape"
   ]
  },
  {
   "cell_type": "code",
   "execution_count": 303,
   "id": "b6cebe3c",
   "metadata": {
    "scrolled": true
   },
   "outputs": [
    {
     "data": {
      "text/plain": [
       "(418,)"
      ]
     },
     "execution_count": 303,
     "metadata": {},
     "output_type": "execute_result"
    }
   ],
   "source": [
    "passengerId.shape"
   ]
  },
  {
   "cell_type": "code",
   "execution_count": 311,
   "id": "2063071b",
   "metadata": {},
   "outputs": [],
   "source": [
    "final_pred = pd.DataFrame()\n",
    "final_pred['PassengeId'] = passengerId\n",
    "final_pred['Survived'] = final_y_pred\n",
    "final_pred.to_csv('Submission.csv', index=False)"
   ]
  },
  {
   "cell_type": "code",
   "execution_count": 305,
   "id": "540b8d31",
   "metadata": {},
   "outputs": [
    {
     "data": {
      "text/plain": [
       "array([0, 0, 0, 1, 1, 0, 1, 0, 1, 1, 1, 0, 0, 0, 0, 1, 0, 1, 0, 0, 0, 1,\n",
       "       0, 0, 0, 0, 0, 0, 0, 1, 0, 1, 0, 1, 0, 0, 0, 1, 1, 0, 0, 0, 0, 0,\n",
       "       0, 0, 0, 0, 1, 0, 1, 1, 0, 1, 0, 1, 1, 0, 1, 0, 0, 1, 1, 0, 0, 1,\n",
       "       0, 0, 0, 1, 1, 1, 1, 1, 0, 0, 0, 1, 1, 1, 0, 1, 1, 0, 0, 0, 1, 1,\n",
       "       0, 0, 0, 0, 0, 1, 0, 0, 1, 0, 1, 0, 1, 0, 1, 0, 1, 1, 1, 0, 1, 0,\n",
       "       1, 0, 1, 1, 0, 0, 0, 0, 1, 0, 0, 1, 1, 1, 0, 1, 1, 1, 0, 0, 1, 0,\n",
       "       0, 1, 1, 0, 1, 0, 0, 0, 0, 1, 0, 0, 0, 1, 0, 1, 1, 0, 0, 0, 1, 0,\n",
       "       0, 0, 1, 1, 1, 1, 0, 1, 0, 1, 0, 0, 0, 0, 0, 0, 1, 0, 1, 0, 0, 0,\n",
       "       0, 1, 0], dtype=int64)"
      ]
     },
     "execution_count": 305,
     "metadata": {},
     "output_type": "execute_result"
    }
   ],
   "source": [
    "from sklearn.preprocessing import StandardScaler\n",
    "\n",
    "#initiating the standard scaler\n",
    "scaler = StandardScaler()\n",
    "\n",
    "#fitting data\n",
    "X_scaled= scaler.fit_transform(X)\n",
    "\n",
    "#spliting the data set\n",
    "X_train_scaled, X_test_scaled, y_train_scaled, y_test_scaled = train_test_split(X_scaled, y, test_size=0.2, random_state=42)\n",
    "\n",
    "model = DecisionTreeClassifier()\n",
    "model.fit(X_train_scaled, y_train_scaled)\n",
    "\n",
    "y_pred_scaled = model.predict(X_test_scaled)\n",
    "y_pred_scaled"
   ]
  },
  {
   "cell_type": "code",
   "execution_count": 306,
   "id": "e47daf20",
   "metadata": {},
   "outputs": [
    {
     "name": "stdout",
     "output_type": "stream",
     "text": [
      "y_pred: (179,)\n",
      "y_train: (712,)\n"
     ]
    }
   ],
   "source": [
    "print(\"y_pred:\", y_pred.shape)\n",
    "print(\"y_train:\", y_train.shape)"
   ]
  },
  {
   "cell_type": "code",
   "execution_count": 307,
   "id": "f1c64c5f",
   "metadata": {
    "scrolled": true
   },
   "outputs": [
    {
     "name": "stdout",
     "output_type": "stream",
     "text": [
      "cross validation score: [0.74301676 0.74719101 0.78651685 0.80337079 0.7752809 ]\n",
      "cross Val scaled 0.7710752620676669\n"
     ]
    }
   ],
   "source": [
    "from sklearn.model_selection import cross_val_score\n",
    "\n",
    "\n",
    "cross_val_score_scaled = cross_val_score(model, X_scaled,y, cv=5)\n",
    "print(\"cross validation score:\", cross_val_score_scaled)\n",
    "print(\"cross Val scaled\", cross_val_score_scaled.mean())"
   ]
  },
  {
   "cell_type": "markdown",
   "id": "e11d4848",
   "metadata": {},
   "source": [
    "### Verifying Model performance\n"
   ]
  },
  {
   "cell_type": "code",
   "execution_count": 308,
   "id": "25776e98",
   "metadata": {},
   "outputs": [
    {
     "name": "stdout",
     "output_type": "stream",
     "text": [
      "accuracy: 0.8100558659217877\n"
     ]
    }
   ],
   "source": [
    "from sklearn.metrics import accuracy_score, confusion_matrix\n",
    "\n",
    "\n",
    "accuracy = accuracy_score(y_test, y_pred)\n",
    "print('accuracy:', accuracy)"
   ]
  },
  {
   "cell_type": "code",
   "execution_count": 309,
   "id": "e2f42680",
   "metadata": {},
   "outputs": [
    {
     "name": "stdout",
     "output_type": "stream",
     "text": [
      "accuracy: 0.7932960893854749\n"
     ]
    }
   ],
   "source": [
    "Scaled_accuracy = accuracy_score(y_test_scaled, y_pred_scaled)\n",
    "print('accuracy:', Scaled_accuracy)\n",
    "\n"
   ]
  },
  {
   "cell_type": "code",
   "execution_count": 310,
   "id": "367bc4b4",
   "metadata": {
    "scrolled": false
   },
   "outputs": [
    {
     "name": "stdout",
     "output_type": "stream",
     "text": [
      "cross validation score: [0.7150838  0.75842697 0.79213483 0.78089888 0.78651685]\n",
      "cross Val 0.7666122653945139\n"
     ]
    }
   ],
   "source": [
    "cross_val_score = cross_val_score(model, X,y, cv=5)\n",
    "print(\"cross validation score:\", cross_val_score)\n",
    "print(\"cross Val\", cross_val_score.mean())"
   ]
  }
 ],
 "metadata": {
  "kernelspec": {
   "display_name": "Python 3 (ipykernel)",
   "language": "python",
   "name": "python3"
  },
  "language_info": {
   "codemirror_mode": {
    "name": "ipython",
    "version": 3
   },
   "file_extension": ".py",
   "mimetype": "text/x-python",
   "name": "python",
   "nbconvert_exporter": "python",
   "pygments_lexer": "ipython3",
   "version": "3.9.16"
  }
 },
 "nbformat": 4,
 "nbformat_minor": 5
}
